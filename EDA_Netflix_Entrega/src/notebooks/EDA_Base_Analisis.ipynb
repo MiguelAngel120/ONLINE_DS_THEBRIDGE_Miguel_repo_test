{
 "cells": [
  {
   "cell_type": "markdown",
   "metadata": {},
   "source": [
    "# Proyecto EDA"
   ]
  },
  {
   "cell_type": "markdown",
   "metadata": {},
   "source": [
    "### Data Cleaning"
   ]
  },
  {
   "cell_type": "markdown",
   "metadata": {},
   "source": [
    "1) Cargar y Verificar Datos"
   ]
  },
  {
   "cell_type": "code",
   "execution_count": 51,
   "metadata": {},
   "outputs": [
    {
     "name": "stdout",
     "output_type": "stream",
     "text": [
      "Dimensiones del dataset (filas, columnas): (3000, 7)\n",
      "\n",
      "Nombres de las columnas:\n",
      "Index(['Title', 'Type', 'Genre', 'Release Year', 'Rating', 'Duration',\n",
      "       'Country'],\n",
      "      dtype='object')\n",
      "\n",
      "Primeras 5 filas del dataset:\n",
      "     Title     Type     Genre  Release Year Rating   Duration        Country\n",
      "0  Title 1  TV Show    Comedy          1955     PG  3 Seasons          Japan\n",
      "1  Title 2  TV Show    Horror          2020      G  3 Seasons          India\n",
      "2  Title 3  TV Show    Action          1966  TV-PG    140 min  United States\n",
      "3  Title 4    Movie  Thriller          2011  PG-13  3 Seasons         Canada\n",
      "4  Title 5  TV Show   Romance          1959  TV-14    172 min          India\n",
      "\n",
      "Información general del dataset:\n",
      "<class 'pandas.core.frame.DataFrame'>\n",
      "RangeIndex: 3000 entries, 0 to 2999\n",
      "Data columns (total 7 columns):\n",
      " #   Column        Non-Null Count  Dtype \n",
      "---  ------        --------------  ----- \n",
      " 0   Title         3000 non-null   object\n",
      " 1   Type          3000 non-null   object\n",
      " 2   Genre         3000 non-null   object\n",
      " 3   Release Year  3000 non-null   int64 \n",
      " 4   Rating        3000 non-null   object\n",
      " 5   Duration      3000 non-null   object\n",
      " 6   Country       3000 non-null   object\n",
      "dtypes: int64(1), object(6)\n",
      "memory usage: 164.2+ KB\n",
      "None\n",
      "\n",
      "Valores nulos por columna:\n",
      "Title           0\n",
      "Type            0\n",
      "Genre           0\n",
      "Release Year    0\n",
      "Rating          0\n",
      "Duration        0\n",
      "Country         0\n",
      "dtype: int64\n"
     ]
    }
   ],
   "source": [
    "# Importar librerías\n",
    "import pandas as pd\n",
    "import numpy as np\n",
    "import seaborn as sns\n",
    "import matplotlib.pyplot as plt\n",
    "\n",
    "# Cargar la base de datos desde la carpeta 'data'\n",
    "file_path = r\"C:\\Users\\migue\\Documents\\GitHub\\ONLINE_DS_THEBRIDGE_Miguel_repo_test\\EDA_Netflix_Entrega\\src\\data\\Netflix_Movies_and_TV_Shows.csv\"\n",
    "\n",
    "# Cargar los datos\n",
    "netflix_data = pd.read_csv(file_path)\n",
    "\n",
    "# Explorar la base de datos\n",
    "print(\"Dimensiones del dataset (filas, columnas):\", netflix_data.shape)\n",
    "\n",
    "print(\"\\nNombres de las columnas:\")\n",
    "print(netflix_data.columns)\n",
    "\n",
    "print(\"\\nPrimeras 5 filas del dataset:\")\n",
    "print(netflix_data.head())\n",
    "\n",
    "print(\"\\nInformación general del dataset:\")\n",
    "print(netflix_data.info())\n",
    "\n",
    "print(\"\\nValores nulos por columna:\")\n",
    "print(netflix_data.isnull().sum())\n"
   ]
  },
  {
   "cell_type": "markdown",
   "metadata": {},
   "source": [
    "1.1) Extraer información útil de variables"
   ]
  },
  {
   "cell_type": "code",
   "execution_count": 52,
   "metadata": {},
   "outputs": [
    {
     "name": "stdout",
     "output_type": "stream",
     "text": [
      "Title: 3000 valores únicos\n",
      "Type: 2 valores únicos\n",
      "Genre: 8 valores únicos\n",
      "Release Year: 74 valores únicos\n",
      "Rating: 7 valores únicos\n",
      "Duration: 124 valores únicos\n",
      "Country: 8 valores únicos\n",
      "\n",
      "Valores nulos por columna:\n",
      "Title           0\n",
      "Type            0\n",
      "Genre           0\n",
      "Release Year    0\n",
      "Rating          0\n",
      "Duration        0\n",
      "Country         0\n",
      "dtype: int64\n",
      "\n",
      "Columnas candidatas a ser eliminadas por falta de datos:\n",
      "Index([], dtype='object')\n"
     ]
    }
   ],
   "source": [
    "# Verificar columnas constantes o casi constantes\n",
    "for column in netflix_data.columns:\n",
    "    unique_values = netflix_data[column].nunique()\n",
    "    print(f\"{column}: {unique_values} valores únicos\")\n",
    "\n",
    "# Identificar columnas con demasiados valores nulos\n",
    "missing_values = netflix_data.isnull().sum()\n",
    "print(\"\\nValores nulos por columna:\")\n",
    "print(missing_values)\n",
    "\n",
    "# Filtrar columnas que no aportan información (ejemplo: constantes o demasiados nulos)\n",
    "useless_columns = missing_values[missing_values > len(netflix_data) * 0.7].index  # Más del 70% de valores nulos\n",
    "print(\"\\nColumnas candidatas a ser eliminadas por falta de datos:\")\n",
    "print(useless_columns)\n"
   ]
  },
  {
   "cell_type": "markdown",
   "metadata": {},
   "source": [
    "1.2) Identificar Valores Nulos (Missings)"
   ]
  },
  {
   "cell_type": "code",
   "execution_count": 53,
   "metadata": {},
   "outputs": [
    {
     "name": "stdout",
     "output_type": "stream",
     "text": [
      "\n",
      "Valores nulos por columna:\n",
      "Title           0\n",
      "Type            0\n",
      "Genre           0\n",
      "Release Year    0\n",
      "Rating          0\n",
      "Duration        0\n",
      "Country         0\n",
      "dtype: int64\n"
     ]
    }
   ],
   "source": [
    "# Resumen de valores nulos por columna\n",
    "print(\"\\nValores nulos por columna:\")\n",
    "print(netflix_data.isnull().sum())\n"
   ]
  },
  {
   "cell_type": "markdown",
   "metadata": {},
   "source": [
    "1.3) Identificar Errores"
   ]
  },
  {
   "cell_type": "code",
   "execution_count": 54,
   "metadata": {},
   "outputs": [
    {
     "name": "stdout",
     "output_type": "stream",
     "text": [
      "\n",
      "Valores únicos de 'Release Year':\n",
      "[1955 2020 1966 2011 1959 2007 1977 1971 2000 1975 2021 1986 1997 1994\n",
      " 1996 1969 1983 2023 1993 1968 1965 1991 2004 1952 1992 1989 2019 1999\n",
      " 1964 2003 1981 2012 1961 1967 1973 1980 2018 2016 2014 2005 1970 1960\n",
      " 2001 2015 1954 1962 1995 2006 1974 1963 1950 2002 1988 1951 1978 1972\n",
      " 1985 2010 2008 1982 1953 1998 1979 1984 1976 1956 1990 2022 1958 2017\n",
      " 1987 1957 2009 2013]\n",
      "\n",
      "Filas con 'Release Year' fuera de rango (1900-2023):\n",
      "Empty DataFrame\n",
      "Columns: [Title, Type, Genre, Release Year, Rating, Duration, Country]\n",
      "Index: []\n",
      "\n",
      "Valores únicos en 'Duration':\n",
      "['3 Seasons' '140 min' '172 min' '68 min' '104 min' '2 Seasons'\n",
      " '1 Seasons' '139 min' '85 min' '129 min' '107 min' '147 min' '120 min'\n",
      " '115 min' '164 min' '175 min' '78 min' '88 min' '133 min' '156 min'\n",
      " '141 min' '76 min' '130 min' '67 min' '128 min' '97 min' '169 min'\n",
      " '137 min' '166 min' '66 min' '89 min' '174 min' '72 min' '138 min'\n",
      " '143 min' '86 min' '168 min' '108 min' '109 min' '124 min' '84 min'\n",
      " '106 min' '153 min' '157 min' '180 min' '90 min' '159 min' '74 min'\n",
      " '65 min' '79 min' '73 min' '103 min' '165 min' '179 min' '113 min'\n",
      " '91 min' '119 min' '155 min' '135 min' '70 min' '177 min' '126 min'\n",
      " '158 min' '122 min' '127 min' '173 min' '125 min' '131 min' '161 min'\n",
      " '114 min' '178 min' '163 min' '132 min' '110 min' '111 min' '81 min'\n",
      " '151 min' '145 min' '92 min' '71 min' '77 min' '100 min' '134 min'\n",
      " '176 min' '171 min' '150 min' '94 min' '61 min' '116 min' '96 min'\n",
      " '148 min' '121 min' '101 min' '102 min' '87 min' '149 min' '146 min'\n",
      " '95 min' '63 min' '160 min' '60 min' '98 min' '75 min' '152 min'\n",
      " '136 min' '123 min' '118 min' '170 min' '83 min' '112 min' '82 min'\n",
      " '80 min' '93 min' '99 min' '167 min' '117 min' '69 min' '144 min'\n",
      " '62 min' '105 min' '154 min' '64 min' '162 min' '142 min']\n"
     ]
    }
   ],
   "source": [
    "# Revisar rangos incorrectos en \"Release Year\"\n",
    "print(\"\\nValores únicos de 'Release Year':\")\n",
    "print(netflix_data['Release Year'].unique())\n",
    "\n",
    "# Filtrar años fuera de un rango lógico (1900-2023)\n",
    "errores_year = netflix_data[(netflix_data['Release Year'] < 1900) | (netflix_data['Release Year'] > 2023)]\n",
    "print(\"\\nFilas con 'Release Year' fuera de rango (1900-2023):\")\n",
    "print(errores_year)\n",
    "\n",
    "# Revisar valores extraños en 'Duration'\n",
    "print(\"\\nValores únicos en 'Duration':\")\n",
    "print(netflix_data['Duration'].unique())"
   ]
  },
  {
   "cell_type": "code",
   "execution_count": 8,
   "metadata": {},
   "outputs": [
    {
     "name": "stdout",
     "output_type": "stream",
     "text": [
      "\n",
      "Columna: Title\n",
      "Valores únicos:\n",
      "['Title 1' 'Title 2' 'Title 3' ... 'Title 2998' 'Title 2999' 'Title 3000']\n",
      "Cantidad de valores únicos: 3000\n",
      "\n",
      "Columna: Type\n",
      "Valores únicos:\n",
      "['TV Show' 'Movie']\n",
      "Cantidad de valores únicos: 2\n",
      "\n",
      "Columna: Genre\n",
      "Valores únicos:\n",
      "['Comedy' 'Horror' 'Action' 'Thriller' 'Romance' 'Drama' 'Documentary'\n",
      " 'Sci-Fi']\n",
      "Cantidad de valores únicos: 8\n",
      "\n",
      "Columna: Release Year\n",
      "Valores únicos:\n",
      "[1955 2020 1966 2011 1959 2007 1977 1971 2000 1975 2021 1986 1997 1994\n",
      " 1996 1969 1983 2023 1993 1968 1965 1991 2004 1952 1992 1989 2019 1999\n",
      " 1964 2003 1981 2012 1961 1967 1973 1980 2018 2016 2014 2005 1970 1960\n",
      " 2001 2015 1954 1962 1995 2006 1974 1963 1950 2002 1988 1951 1978 1972\n",
      " 1985 2010 2008 1982 1953 1998 1979 1984 1976 1956 1990 2022 1958 2017\n",
      " 1987 1957 2009 2013]\n",
      "Cantidad de valores únicos: 74\n",
      "\n",
      "Columna: Rating\n",
      "Valores únicos:\n",
      "['PG' 'G' 'TV-PG' 'PG-13' 'TV-14' 'TV-MA' 'R']\n",
      "Cantidad de valores únicos: 7\n",
      "\n",
      "Columna: Duration\n",
      "Valores únicos:\n",
      "['3 Seasons' '140 min' '172 min' '68 min' '104 min' '2 Seasons'\n",
      " '1 Seasons' '139 min' '85 min' '129 min' '107 min' '147 min' '120 min'\n",
      " '115 min' '164 min' '175 min' '78 min' '88 min' '133 min' '156 min'\n",
      " '141 min' '76 min' '130 min' '67 min' '128 min' '97 min' '169 min'\n",
      " '137 min' '166 min' '66 min' '89 min' '174 min' '72 min' '138 min'\n",
      " '143 min' '86 min' '168 min' '108 min' '109 min' '124 min' '84 min'\n",
      " '106 min' '153 min' '157 min' '180 min' '90 min' '159 min' '74 min'\n",
      " '65 min' '79 min' '73 min' '103 min' '165 min' '179 min' '113 min'\n",
      " '91 min' '119 min' '155 min' '135 min' '70 min' '177 min' '126 min'\n",
      " '158 min' '122 min' '127 min' '173 min' '125 min' '131 min' '161 min'\n",
      " '114 min' '178 min' '163 min' '132 min' '110 min' '111 min' '81 min'\n",
      " '151 min' '145 min' '92 min' '71 min' '77 min' '100 min' '134 min'\n",
      " '176 min' '171 min' '150 min' '94 min' '61 min' '116 min' '96 min'\n",
      " '148 min' '121 min' '101 min' '102 min' '87 min' '149 min' '146 min'\n",
      " '95 min' '63 min' '160 min' '60 min' '98 min' '75 min' '152 min'\n",
      " '136 min' '123 min' '118 min' '170 min' '83 min' '112 min' '82 min'\n",
      " '80 min' '93 min' '99 min' '167 min' '117 min' '69 min' '144 min'\n",
      " '62 min' '105 min' '154 min' '64 min' '162 min' '142 min']\n",
      "Cantidad de valores únicos: 124\n",
      "\n",
      "Columna: Country\n",
      "Valores únicos:\n",
      "['Japan' 'India' 'United States' 'Canada' 'Australia' 'Germany'\n",
      " 'United Kingdom' 'South Korea']\n",
      "Cantidad de valores únicos: 8\n"
     ]
    }
   ],
   "source": [
    "# Valores Únicos\n",
    "\n",
    "for column in netflix_data.columns:\n",
    "    print(f\"\\nColumna: {column}\")\n",
    "    print(\"Valores únicos:\")\n",
    "    print(netflix_data[column].unique())\n",
    "    print(f\"Cantidad de valores únicos: {netflix_data[column].nunique()}\")"
   ]
  },
  {
   "cell_type": "markdown",
   "metadata": {},
   "source": [
    "1.4) Crear Copia de la Base"
   ]
  },
  {
   "cell_type": "code",
   "execution_count": 55,
   "metadata": {},
   "outputs": [],
   "source": [
    "# Crear una copia del dataset\n",
    "netflix_copy = netflix_data.copy()\n"
   ]
  },
  {
   "cell_type": "markdown",
   "metadata": {},
   "source": [
    "\"El tiempo promedio para ver una temporada completa de una serie en Netflix varía según la duración de los episodios y la cantidad de episodios por temporada. Sin embargo, en general, los usuarios suelen terminar una temporada en aproximadamente cinco días, viendo alrededor de dos horas por día.\n",
    "\n",
    "Esto significa que una temporada promedio podría tomar alrededor de 600 minutos (10 horas) en total. Claro, esto puede variar dependiendo de la serie y de los hábitos de visualización de cada persona.\"\n",
    "\n",
    "\"la duración de las películas es de 141 minutos en 2022.\""
   ]
  },
  {
   "cell_type": "markdown",
   "metadata": {},
   "source": [
    "1.5) Crear Copia Arreglando los Valores de Duration"
   ]
  },
  {
   "cell_type": "code",
   "execution_count": 56,
   "metadata": {},
   "outputs": [
    {
     "name": "stdout",
     "output_type": "stream",
     "text": [
      "Primeras filas después de la conversión:\n",
      "     Title     Type     Genre  Release Year Rating  Duration        Country\n",
      "0  Title 1  TV Show    Comedy          1955     PG      1800          Japan\n",
      "1  Title 2  TV Show    Horror          2020      G      1800          India\n",
      "2  Title 3  TV Show    Action          1966  TV-PG       140  United States\n",
      "3  Title 4    Movie  Thriller          2011  PG-13       141         Canada\n",
      "4  Title 5  TV Show   Romance          1959  TV-14       172          India\n",
      "\n",
      "Resumen estadístico de la columna 'Duration':\n",
      "count    3000.000000\n",
      "mean      388.305333\n",
      "std       520.405214\n",
      "min        60.000000\n",
      "25%       118.000000\n",
      "50%       141.000000\n",
      "75%       179.000000\n",
      "max      1800.000000\n",
      "Name: Duration, dtype: float64\n"
     ]
    }
   ],
   "source": [
    "# Función para convertir la columna \"Duration\" según el tipo (Type)\n",
    "def convertir_duracion(row):\n",
    "    duracion = row['Duration']\n",
    "    tipo = row['Type']\n",
    "    \n",
    "    if pd.isnull(duracion):\n",
    "        return np.nan  # Mantener nulos\n",
    "    \n",
    "    if tipo == \"TV Show\" and \"Season\" in duracion:\n",
    "        temporadas = int(duracion.split()[0])  # Extraer número de temporadas\n",
    "        return temporadas * 600  # Convertir temporadas a minutos (1 temporada = 600 min)\n",
    "    \n",
    "    elif tipo == \"Movie\" and \"Season\" in duracion:\n",
    "        return 141  # Asignar promedio de 141 minutos a las Movies con \"Season\"\n",
    "    \n",
    "    elif tipo == \"Movie\" and \"min\" in duracion:\n",
    "        return int(duracion.replace(\" min\", \"\"))  # Extraer minutos normalmente\n",
    "    \n",
    "    elif \"min\" in duracion:  # Para otros casos con \"min\"\n",
    "        return int(duracion.replace(\" min\", \"\"))\n",
    "    \n",
    "    return np.nan  # Mantener nulos si no coincide ninguna condición\n",
    "\n",
    "# Aplicar la función a la columna \"Duration\" usando .apply con axis=1 para filas completas\n",
    "netflix_copy['Duration'] = netflix_copy.apply(convertir_duracion, axis=1)\n",
    "\n",
    "# Guardar la copia modificada\n",
    "output_path = r\"C:\\Users\\migue\\Documents\\GitHub\\ONLINE_DS_THEBRIDGE_Miguel_repo_test\\EDA_Netflix_Entrega\\src\\data\\Netflix_Movies_and_TV_Shows_cleaned.csv\"\n",
    "netflix_copy.to_csv(output_path, index=False)\n",
    "\n",
    "# Verificar resultados\n",
    "print(\"Primeras filas después de la conversión:\")\n",
    "print(netflix_copy.head())\n",
    "\n",
    "print(\"\\nResumen estadístico de la columna 'Duration':\")\n",
    "print(netflix_copy['Duration'].describe())"
   ]
  },
  {
   "cell_type": "code",
   "execution_count": 57,
   "metadata": {},
   "outputs": [
    {
     "name": "stdout",
     "output_type": "stream",
     "text": [
      "       Title     Type        Genre  Release Year Rating  Duration  \\\n",
      "0    Title 1  TV Show       Comedy          1955     PG      1800   \n",
      "1    Title 2  TV Show       Horror          2020      G      1800   \n",
      "2    Title 3  TV Show       Action          1966  TV-PG       140   \n",
      "3    Title 4    Movie     Thriller          2011  PG-13       141   \n",
      "4    Title 5  TV Show      Romance          1959  TV-14       172   \n",
      "5    Title 6    Movie       Action          2007  PG-13       141   \n",
      "6    Title 7    Movie      Romance          1977  TV-14        68   \n",
      "7    Title 8    Movie       Comedy          1971  TV-PG       104   \n",
      "8    Title 9    Movie        Drama          2000  PG-13       141   \n",
      "9   Title 10    Movie     Thriller          1975  TV-MA       141   \n",
      "10  Title 11  TV Show      Romance          2021  TV-14       139   \n",
      "11  Title 12  TV Show       Action          1986  PG-13        85   \n",
      "12  Title 13    Movie  Documentary          1997      R       129   \n",
      "13  Title 14    Movie       Sci-Fi          1986  TV-PG       129   \n",
      "14  Title 15  TV Show  Documentary          1994  PG-13      1800   \n",
      "15  Title 16  TV Show       Horror          1996  TV-MA       107   \n",
      "16  Title 17    Movie       Comedy          1969  TV-PG       141   \n",
      "17  Title 18  TV Show        Drama          1983      G       147   \n",
      "18  Title 19    Movie      Romance          2011      G       141   \n",
      "19  Title 20    Movie      Romance          2023      R       141   \n",
      "20  Title 21  TV Show       Sci-Fi          1993      G       120   \n",
      "21  Title 22  TV Show        Drama          1968      R      1200   \n",
      "22  Title 23    Movie        Drama          2023  TV-PG       141   \n",
      "23  Title 24    Movie       Comedy          1965      R       115   \n",
      "24  Title 25  TV Show       Sci-Fi          1991  TV-MA       600   \n",
      "25  Title 26  TV Show      Romance          1997      R      1200   \n",
      "26  Title 27    Movie        Drama          2004  TV-PG       164   \n",
      "27  Title 28  TV Show       Horror          1952  PG-13       175   \n",
      "28  Title 29    Movie     Thriller          1969  TV-MA        68   \n",
      "29  Title 30  TV Show       Comedy          1955     PG        78   \n",
      "\n",
      "           Country  \n",
      "0            Japan  \n",
      "1            India  \n",
      "2    United States  \n",
      "3           Canada  \n",
      "4            India  \n",
      "5            Japan  \n",
      "6    United States  \n",
      "7            Japan  \n",
      "8           Canada  \n",
      "9            India  \n",
      "10       Australia  \n",
      "11         Germany  \n",
      "12       Australia  \n",
      "13         Germany  \n",
      "14          Canada  \n",
      "15           Japan  \n",
      "16  United Kingdom  \n",
      "17     South Korea  \n",
      "18  United Kingdom  \n",
      "19  United Kingdom  \n",
      "20       Australia  \n",
      "21         Germany  \n",
      "22  United Kingdom  \n",
      "23   United States  \n",
      "24       Australia  \n",
      "25   United States  \n",
      "26           Japan  \n",
      "27   United States  \n",
      "28           India  \n",
      "29          Canada  \n"
     ]
    }
   ],
   "source": [
    "print(netflix_copy.head(30))"
   ]
  },
  {
   "cell_type": "code",
   "execution_count": null,
   "metadata": {},
   "outputs": [],
   "source": []
  }
 ],
 "metadata": {
  "kernelspec": {
   "display_name": "Python 3",
   "language": "python",
   "name": "python3"
  },
  "language_info": {
   "codemirror_mode": {
    "name": "ipython",
    "version": 3
   },
   "file_extension": ".py",
   "mimetype": "text/x-python",
   "name": "python",
   "nbconvert_exporter": "python",
   "pygments_lexer": "ipython3",
   "version": "3.13.1"
  }
 },
 "nbformat": 4,
 "nbformat_minor": 2
}
